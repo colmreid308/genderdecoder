{
 "cells": [
  {
   "cell_type": "code",
   "execution_count": 7,
   "metadata": {},
   "outputs": [],
   "source": [
    "import genderdecoder"
   ]
  },
  {
   "cell_type": "code",
   "execution_count": 10,
   "metadata": {},
   "outputs": [],
   "source": [
    "job_description = \"Ensure that the team is aligned and navigating in the right direction. You will need to have technical expertise in cutting edge techniques and the business knowledge to define the vision across the probation portfolio in line with departmental objectives, timescales and budgets.Link the team well within the environment we are operating in. You will communicate with senior stakeholders and convince them of the strategic value of applying data science and work together to remove blockers so that the team can deliver efficiently.Develop team capability, act as a coach, mentor and role model and champion the adoption of best practice in data science from across government and beyond. You will look for opportunities to bring the latest research to bear on MoJ problems, whether through strategic partnerships with external academic institutions (e.g. Alan Turing Institute) or by developing these skills in-house.\""
   ]
  },
  {
   "cell_type": "code",
   "execution_count": 12,
   "metadata": {},
   "outputs": [],
   "source": [
    "from genderdecoder import assess"
   ]
  },
  {
   "cell_type": "code",
   "execution_count": 13,
   "metadata": {},
   "outputs": [
    {
     "data": {
      "text/plain": [
       "{'result': 'masculine-coded',\n",
       " 'explanation': 'This job ad uses more words that are stereotypically masculine than words that are stereotypically feminine. It risks putting women off applying, but will probably encourage men to apply.',\n",
       " 'masculine_coded_words': ['objectives', 'champion'],\n",
       " 'feminine_coded_words': ['together']}"
      ]
     },
     "execution_count": 13,
     "metadata": {},
     "output_type": "execute_result"
    }
   ],
   "source": [
    "assess(job_description)"
   ]
  }
 ],
 "metadata": {
  "kernelspec": {
   "display_name": "Python 3",
   "language": "python",
   "name": "python3"
  },
  "language_info": {
   "codemirror_mode": {
    "name": "ipython",
    "version": 3
   },
   "file_extension": ".py",
   "mimetype": "text/x-python",
   "name": "python",
   "nbconvert_exporter": "python",
   "pygments_lexer": "ipython3",
   "version": "3.7.3"
  }
 },
 "nbformat": 4,
 "nbformat_minor": 2
}
